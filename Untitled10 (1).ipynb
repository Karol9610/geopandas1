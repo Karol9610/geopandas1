{
 "cells": [
  {
   "cell_type": "markdown",
   "id": "9d6a51b4",
   "metadata": {},
   "source": [
    "# Importujemy dane"
   ]
  },
  {
   "cell_type": "code",
   "execution_count": 9,
   "id": "95785a93",
   "metadata": {},
   "outputs": [],
   "source": [
    "import geopandas\n",
    "import pandas as pd\n",
    "import requests  \n",
    "from bs4 import BeautifulSoup # PARSE HTML\n",
    "\n",
    "path_to_data = (\"C:/Users/kzeba/OneDrive/Pulpit/DANE/Polska dane/Wojewodztwa/Województwa.shp\")\n",
    "gdf = geopandas.read_file(path_to_data)"
   ]
  },
  {
   "cell_type": "code",
   "execution_count": 10,
   "id": "89012efd",
   "metadata": {},
   "outputs": [
    {
     "name": "stdout",
     "output_type": "stream",
     "text": [
      "200\n"
     ]
    }
   ],
   "source": [
    "wikiurl=\"https://pl.wikipedia.org/wiki/Wojew%C3%B3dztwo\" #ADRES URL STRONY\n",
    "table_class=\"wikitable sortable jquery-tablesorter\" #ZBADAJ STRONĘ, POSZUKAJ TABELI(KLASY)\n",
    "response=requests.get(wikiurl) #ad1\n",
    "print(response.status_code)"
   ]
  },
  {
   "cell_type": "markdown",
   "id": "1b1e09cb",
   "metadata": {},
   "source": [
    "# html into a beautifulsoup object"
   ]
  },
  {
   "cell_type": "code",
   "execution_count": 11,
   "id": "f5c0760a",
   "metadata": {},
   "outputs": [],
   "source": [
    "soup = BeautifulSoup(response.text, 'html.parser')\n",
    "wojewodztwatable=soup.find('table',{'class':\"wikitable\"})\n",
    "df=pd.read_html(str(wojewodztwatable)) #LISTA\n",
    "df=pd.DataFrame(df[0]) #DATAFRAME"
   ]
  },
  {
   "cell_type": "markdown",
   "id": "7c4b407f",
   "metadata": {},
   "source": [
    "# Czyszczenie danych"
   ]
  },
  {
   "cell_type": "code",
   "execution_count": 21,
   "id": "7bd12faf",
   "metadata": {},
   "outputs": [],
   "source": [
    "# usuwamy niechciane kolumny (wiki)\n",
    "data = df.drop([\"Wyróżnik na tablicachrejestracyjnych\", \"Siedziba\"], axis=1)\n",
    "# zmieniamy nazwe kolumn\n",
    "data = data.rename(columns={\"PKB na 1 mieszkańca(31 XII 2018) [zł][3]\": \"PKB_na_mieszkanca\",\"Poziomurbanizacji(31 XII 2018)\": \"Poziom_urbanizacji\"})\n",
    "# usuwamy niechciane kolumny z pliku\n",
    "data2 = gdf.drop([\"IIP_PRZEST\",\"JPT_WAZNA_\",\"JPT_NAZWA1\",\"JPT_ORGAN1\",\"WERSJA_DO\",\"WERSJA_OD\",\"JPT_KJ_I_3\", \"WAZNY_OD\",\"ID_BUFOR_1\",\"JPT_SPS_KO\",\"JPT_OPIS\",\"JPT_KJ_I_2\",\"JPT_KOD__1\",\"WAZNY_DO\",\"JPT_JOR_ID\",\"JPT_ORGAN_\",\"ID_BUFORA1\",\"JPT_KJ_IIP\"], axis=1)\n",
    "#sprawdzamy typ danych i zmieniamy typ danych: pozwoli nam to zamienic m.in 02 na 2 ()\n",
    "data3=data2.astype({\"JPT_KOD_JE\": \"int64\"})"
   ]
  },
  {
   "cell_type": "markdown",
   "id": "0f2ee0fd",
   "metadata": {},
   "source": [
    "# Inner join"
   ]
  },
  {
   "cell_type": "code",
   "execution_count": 22,
   "id": "22dea43f",
   "metadata": {},
   "outputs": [],
   "source": [
    "a=pd.merge(data,data3,left_on='TERYT',right_on='JPT_KOD_JE') "
   ]
  },
  {
   "cell_type": "code",
   "execution_count": 36,
   "id": "9dc16877",
   "metadata": {
    "scrolled": true
   },
   "outputs": [
    {
     "data": {
      "text/plain": [
       "<AxesSubplot:>"
      ]
     },
     "execution_count": 36,
     "metadata": {},
     "output_type": "execute_result"
    },
    {
     "data": {
      "image/png": "[encoded data removed]",
      "text/plain": [
       "<Figure size 432x288 with 2 Axes>"
      ]
     },
     "metadata": {
      "needs_background": "light"
     },
     "output_type": "display_data"
    }
   ],
   "source": [
    "b= geopandas.GeoDataFrame(a) #zamieniamy dataframe na geodataframe\n",
    "b.plot(\"Gęstość zaludnienia[osób/km²]\", legend=True)"
   ]
  },
  {
   "cell_type": "code",
   "execution_count": 28,
   "id": "335c26b8",
   "metadata": {},
   "outputs": [
    {
     "data": {
      "text/plain": [
       "TERYT                                  int64\n",
       "Województwo                           object\n",
       "Powierzchnia[km²], 31.12.2018[3]      object\n",
       "Ludność(30 VI 2020)[4]                object\n",
       "Gęstość zaludnienia[osób/km²]          int64\n",
       "Poziom_urbanizacji                    object\n",
       "Stopa bezrobocia(I 2019)[5]           object\n",
       "PKB_na_mieszkanca                     object\n",
       "JPT_SJR_KO                            object\n",
       "JPT_KOD_JE                             int64\n",
       "JPT_NAZWA_                            object\n",
       "ID_BUFORA_                           float64\n",
       "ID_TECHNIC                             int64\n",
       "IIP_IDENTY                            object\n",
       "IIP_WERSJA                            object\n",
       "JPT_KJ_I_1                            object\n",
       "JPT_ID                                 int64\n",
       "Shape_Leng                           float64\n",
       "Shape_Area                           float64\n",
       "geometry                            geometry\n",
       "dtype: object"
      ]
     },
     "execution_count": 28,
     "metadata": {},
     "output_type": "execute_result"
    }
   ],
   "source": [
    "a.dtypes"
   ]
  },
  {
   "cell_type": "code",
   "execution_count": null,
   "id": "ee870654",
   "metadata": {},
   "outputs": [],
   "source": []
  }
 ],
 "metadata": {
  "kernelspec": {
   "display_name": "Python 3 (ipykernel)",
   "language": "python",
   "name": "python3"
  },
  "language_info": {
   "codemirror_mode": {
    "name": "ipython",
    "version": 3
   },
   "file_extension": ".py",
   "mimetype": "text/x-python",
   "name": "python",
   "nbconvert_exporter": "python",
   "pygments_lexer": "ipython3",
   "version": "3.10.4"
  }
 },
 "nbformat": 4,
 "nbformat_minor": 5
}
